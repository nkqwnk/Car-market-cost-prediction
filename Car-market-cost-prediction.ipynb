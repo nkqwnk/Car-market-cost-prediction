{
 "cells": [
  {
   "cell_type": "markdown",
   "id": "6b5b22db",
   "metadata": {},
   "source": [
    "# Определение рыночной стоимости автомобиля"
   ]
  },
  {
   "cell_type": "markdown",
   "id": "96988a90",
   "metadata": {},
   "source": [
    "В ходе данного проекта будет решаться задача об определении рычной стоимости автомобиля на синтетических данных вымышленной компании \"Не бит, не крашен\". В нашем распоряжении данные о технических характеристиках, комплектации и ценах автомобилей.<br>\n",
    "Критерии, которые важны заказчику:\n",
    "1. Качество предсказания\n",
    "2. Время обучения модели\n",
    "3. Время предсказания модели <br>\n",
    "\n",
    "Для оценки качества моделей будем применять метрику RMSE, значение которой по условию заказчика должно быть меньше 2500."
   ]
  },
  {
   "cell_type": "markdown",
   "id": "92bab0c5",
   "metadata": {},
   "source": [
    "## 1. Загрузка данных"
   ]
  },
  {
   "cell_type": "markdown",
   "id": "30635e2c",
   "metadata": {},
   "source": [
    "Для начала подключим необходимые для выполнения работы библиотеки:"
   ]
  },
  {
   "cell_type": "code",
   "execution_count": null,
   "id": "ce9959f1",
   "metadata": {},
   "outputs": [],
   "source": [
    "import pandas as pd\n",
    "import numpy as np\n",
    "#!pip install missingno\n",
    "import missingno as msno\n",
    "#!pip install category_encoders\n",
    "import category_encoders as ce\n",
    "from sklearn.model_selection import train_test_split\n",
    "from sklearn.metrics import mean_squared_error\n",
    "from sklearn.metrics import make_scorer\n",
    "from sklearn.model_selection import cross_val_score\n",
    "from sklearn.model_selection import cross_validate\n",
    "from sklearn.model_selection import GridSearchCV\n",
    "#!pip install lightgbm\n",
    "from lightgbm import LGBMRegressor\n",
    "#!pip install catboost\n",
    "from catboost import CatBoostRegressor\n",
    "from catboost import Pool, cv\n",
    "from sklearn.linear_model import LinearRegression\n",
    "from sklearn.ensemble import RandomForestRegressor"
   ]
  },
  {
   "cell_type": "markdown",
   "id": "5975b4de",
   "metadata": {},
   "source": [
    "Теперь загрузим данные:"
   ]
  },
  {
   "cell_type": "code",
   "execution_count": null,
   "id": "7fadffa9",
   "metadata": {},
   "outputs": [],
   "source": [
    "try:\n",
    "    autos = pd.read_csv('autos.csv')\n",
    "except:\n",
    "    autos = pd.read_csv('/datasets/autos.csv')"
   ]
  },
  {
   "cell_type": "markdown",
   "id": "ac87927d",
   "metadata": {},
   "source": [
    "## 2. Изучение данных"
   ]
  },
  {
   "cell_type": "markdown",
   "id": "9fc3556c",
   "metadata": {},
   "source": [
    "Осуществим первичный обзор датафрейма:"
   ]
  },
  {
   "cell_type": "code",
   "execution_count": null,
   "id": "ba6ae563",
   "metadata": {},
   "outputs": [],
   "source": [
    "autos.head()"
   ]
  },
  {
   "cell_type": "markdown",
   "id": "757fa19c",
   "metadata": {},
   "source": [
    "Также получим основную информацию о данных:"
   ]
  },
  {
   "cell_type": "code",
   "execution_count": null,
   "id": "e36a4812",
   "metadata": {},
   "outputs": [],
   "source": [
    "autos.info()"
   ]
  },
  {
   "cell_type": "markdown",
   "id": "a0dcb2a2",
   "metadata": {},
   "source": [
    "Изменим тип данных в столбце Repaired - вместо 'yes', 'no' будем использовать булевы значения True, False:"
   ]
  },
  {
   "cell_type": "code",
   "execution_count": null,
   "id": "e885257f",
   "metadata": {},
   "outputs": [],
   "source": [
    "autos = autos.replace({'Repaired': {'yes': True, 'no': False}})"
   ]
  },
  {
   "cell_type": "markdown",
   "id": "c58eb4a8",
   "metadata": {},
   "source": [
    "Оптимизируем используемые типы числовых данных, чтобы улучшить использование памяти:"
   ]
  },
  {
   "cell_type": "code",
   "execution_count": null,
   "id": "80ad8fd2",
   "metadata": {},
   "outputs": [],
   "source": [
    "for column in ['Price', 'RegistrationYear', 'Power', 'Kilometer', 'RegistrationMonth', \n",
    "               'NumberOfPictures', 'PostalCode', 'Repaired']:\n",
    "    autos[column] = pd.to_numeric(autos[column], downcast='integer')"
   ]
  },
  {
   "cell_type": "code",
   "execution_count": null,
   "id": "82acb70a",
   "metadata": {},
   "outputs": [],
   "source": [
    "autos.info(verbose=False)"
   ]
  },
  {
   "cell_type": "markdown",
   "id": "3e4ebdbe",
   "metadata": {},
   "source": [
    "Как видим, использование памяти сократилось больше, чем на четверть. "
   ]
  },
  {
   "cell_type": "markdown",
   "id": "14bf9267",
   "metadata": {},
   "source": [
    "Теперь проведем визуальный анализ пропущенных данных:"
   ]
  },
  {
   "cell_type": "code",
   "execution_count": null,
   "id": "e41f78ba",
   "metadata": {},
   "outputs": [],
   "source": [
    "msno.matrix(autos, sparkline=False)"
   ]
  },
  {
   "cell_type": "markdown",
   "id": "bc6cdff9",
   "metadata": {},
   "source": [
    "Как видим, пропущенные значения встречаются в столбцах VehicleType, Gearbox, Model, FuelType и Repaired. Больше всего их в столбце Repaired, меньше всего - в Model. <br>\n",
    "Заметим, что все пропуски у нас в категориальных данных. Предположим, что они связаны с ошибками в заполнении анкет или с ошибками выгрузки данных с сайта сервиса. <br>\n",
    "Восстановить такого рода пропуски возможным не представляется, поэтому остается два возможных выхода - заменить их на какую-то \"заглушку\" (к примеру, вместо пропусков писать значение 'unknown') или удалить. Примем решение в пользу удаления:"
   ]
  },
  {
   "cell_type": "code",
   "execution_count": null,
   "id": "716e4bc6",
   "metadata": {},
   "outputs": [],
   "source": [
    "autos = autos.fillna('unknown')"
   ]
  },
  {
   "cell_type": "markdown",
   "id": "3341a98c",
   "metadata": {},
   "source": [
    "Теперь, убрав пропущенные значения, можем присвоить столбцу Repaired булевский тип:"
   ]
  },
  {
   "cell_type": "code",
   "execution_count": null,
   "id": "f3abf3b9",
   "metadata": {},
   "outputs": [],
   "source": [
    "autos['Repaired'] = autos['Repaired'].astype('bool')"
   ]
  },
  {
   "cell_type": "markdown",
   "id": "d2c78c9d",
   "metadata": {},
   "source": [
    "Теперь проверим данные на наличие дубликатов:"
   ]
  },
  {
   "cell_type": "code",
   "execution_count": null,
   "id": "fecd6f9b",
   "metadata": {},
   "outputs": [],
   "source": [
    "autos.duplicated().sum()"
   ]
  },
  {
   "cell_type": "markdown",
   "id": "20bfd861",
   "metadata": {},
   "source": [
    "Нашли 4 дублированные строки, удалим их:"
   ]
  },
  {
   "cell_type": "code",
   "execution_count": null,
   "id": "d804a5aa",
   "metadata": {},
   "outputs": [],
   "source": [
    "autos = autos.drop_duplicates(ignore_index=True)"
   ]
  },
  {
   "cell_type": "markdown",
   "id": "da838cb4",
   "metadata": {},
   "source": [
    "Проведем обзор основных статистик числовых признаков:"
   ]
  },
  {
   "cell_type": "code",
   "execution_count": null,
   "id": "3e1587b3",
   "metadata": {},
   "outputs": [],
   "source": [
    "autos.describe()"
   ]
  },
  {
   "cell_type": "markdown",
   "id": "f481c357",
   "metadata": {},
   "source": [
    "Сразу обратим внимание на то, что столбец NumberOfPictures полностью состоит из нулей (причем нулевым он является и в исходных данных, то есть, мы не удалили никаких существенных строк на предыдущих шагах). Удалим его:"
   ]
  },
  {
   "cell_type": "code",
   "execution_count": null,
   "id": "6054d64c",
   "metadata": {},
   "outputs": [],
   "source": [
    "autos = autos.drop(['NumberOfPictures'], axis=1)"
   ]
  },
  {
   "cell_type": "markdown",
   "id": "c049b801",
   "metadata": {},
   "source": [
    "Кроме того, представляются несущественными для ценообразования такие признаки как DateCrawled, RegistrationYear, RegistrationMonth, DateCreated, PostalCode и LastSeen. <br>\n",
    "Дата регистрации автомобиля не представляет большого значения в отличие от даты его производства. Дата создания и скачивания анкеты тем более не может играть роли в изменении его цены, то же верно и для даты последней активности пользователя, разместившего объявление, и для его почтового индекса. <br>\n",
    "Обосновав их незначительность, удалим эти признаки:"
   ]
  },
  {
   "cell_type": "code",
   "execution_count": null,
   "id": "2e263cd2",
   "metadata": {},
   "outputs": [],
   "source": [
    "autos = autos.drop(['DateCrawled', 'RegistrationYear', 'RegistrationMonth', 'DateCreated', \n",
    "                    'PostalCode', 'LastSeen'], axis=1)"
   ]
  },
  {
   "cell_type": "markdown",
   "id": "299c8150",
   "metadata": {},
   "source": [
    "Теперь заметим необычно низкие значения в столбцах Price и Power. Взглянем на их наименьше значения более подробно, начав с признака Price:"
   ]
  },
  {
   "cell_type": "code",
   "execution_count": null,
   "id": "14e9c3ba",
   "metadata": {},
   "outputs": [],
   "source": [
    "autos['Price'].value_counts().sort_index().head(10)"
   ]
  },
  {
   "cell_type": "markdown",
   "id": "45f91c24",
   "metadata": {},
   "source": [
    "Видим неправдоподобно низкие даже для подержанных автомобилей цены. Отметим также весьма большое количество автомобилей, чья цена равна 0, и несколько меньшее, однако все еще выделяющееся число автомобилей с ценой в 1. Вероятно, эти значения говорят о желании продавца провести торг или обмен, но для определения рыночной цены такие значения не подходят. Оставим в нашем наборе лишь автомобили, цена которых не ниже 100 (число взято примерно после беглого анализа нескольких европейских онлайн-маркетплейсов подержанных авто): "
   ]
  },
  {
   "cell_type": "code",
   "execution_count": null,
   "id": "6094b7c7",
   "metadata": {},
   "outputs": [],
   "source": [
    "autos = autos.query('Price >= 100')"
   ]
  },
  {
   "cell_type": "markdown",
   "id": "983a7489",
   "metadata": {},
   "source": [
    "Теперь взглянем на самые низкие значения признака Power:"
   ]
  },
  {
   "cell_type": "code",
   "execution_count": null,
   "id": "ee28f100",
   "metadata": {},
   "outputs": [],
   "source": [
    "autos['Power'].value_counts().sort_index().head(10)"
   ]
  },
  {
   "cell_type": "markdown",
   "id": "2431b37f",
   "metadata": {},
   "source": [
    "Видим ту же скученность данных в нуле. Удалим из набора все объекты, величина признака Power которых не превосходит 50 лошадиных сил:"
   ]
  },
  {
   "cell_type": "code",
   "execution_count": null,
   "id": "815ded37",
   "metadata": {},
   "outputs": [],
   "source": [
    "autos = autos.query('Power >= 50')"
   ]
  },
  {
   "cell_type": "markdown",
   "id": "fe2dd6df",
   "metadata": {},
   "source": [
    "Так же посмотрим, с какими наибольшими значениями этого признака мы имеем дело:"
   ]
  },
  {
   "cell_type": "code",
   "execution_count": null,
   "id": "9e7b66de",
   "metadata": {},
   "outputs": [],
   "source": [
    "autos['Power'].value_counts(ascending=False).sort_index(ascending=False).head(10)"
   ]
  },
  {
   "cell_type": "markdown",
   "id": "2b738637",
   "metadata": {},
   "source": [
    "В этом случше тоже наблюдаем нереалистичные значения. Как известно автору, наибольшее число лошадиных сил среди автомобилей составляет примерно 2000. Также, среднее число лошадиных сил у спорткаров - в районе 500-1000. Таких машин в нашем датафрейме всего 91:   "
   ]
  },
  {
   "cell_type": "code",
   "execution_count": null,
   "id": "7dc2b312",
   "metadata": {},
   "outputs": [],
   "source": [
    "len(autos.query('Power >= 500 and Power <= 1000'))"
   ]
  },
  {
   "cell_type": "markdown",
   "id": "60de4693",
   "metadata": {},
   "source": [
    "Удалим все автомобили, значения Power которых превышает 1000:"
   ]
  },
  {
   "cell_type": "code",
   "execution_count": null,
   "id": "fcb9230a",
   "metadata": {},
   "outputs": [],
   "source": [
    "autos = autos.query('Power <= 1000')"
   ]
  },
  {
   "cell_type": "markdown",
   "id": "a1fbf52d",
   "metadata": {},
   "source": [
    "На этом завершаем этап предобработки данных. "
   ]
  },
  {
   "cell_type": "markdown",
   "id": "2dcfc4fd",
   "metadata": {},
   "source": [
    "## 3. Обучение моделей"
   ]
  },
  {
   "cell_type": "markdown",
   "id": "2dea5d7e",
   "metadata": {},
   "source": [
    "Начнем обучение с разделения данных на выборки:"
   ]
  },
  {
   "cell_type": "code",
   "execution_count": null,
   "id": "b8adc788",
   "metadata": {},
   "outputs": [],
   "source": [
    "autos.shape"
   ]
  },
  {
   "cell_type": "code",
   "execution_count": null,
   "id": "b463cc84",
   "metadata": {},
   "outputs": [],
   "source": [
    "autos.info()"
   ]
  },
  {
   "cell_type": "code",
   "execution_count": null,
   "id": "cbcafb34",
   "metadata": {},
   "outputs": [],
   "source": [
    "autos['VehicleType'] = autos['VehicleType'].astype('category')\n",
    "autos['Gearbox'] = autos['Gearbox'].astype('category')\n",
    "autos['Model'] = autos['Model'].astype('category')\n",
    "autos['FuelType'] = autos['FuelType'].astype('category')\n",
    "autos['Brand'] = autos['Brand'].astype('category')"
   ]
  },
  {
   "cell_type": "code",
   "execution_count": null,
   "id": "0fd4d74d",
   "metadata": {},
   "outputs": [],
   "source": [
    "autos.info()"
   ]
  },
  {
   "cell_type": "code",
   "execution_count": null,
   "id": "e567d274",
   "metadata": {},
   "outputs": [],
   "source": [
    "features = autos.drop('Price', axis=1)\n",
    "target = autos['Price']\n",
    "\n",
    "features_train, features_test, target_train, target_test = train_test_split(features, target, \n",
    "                                                          test_size=0.25, random_state=42)"
   ]
  },
  {
   "cell_type": "markdown",
   "id": "58b636a2",
   "metadata": {},
   "source": [
    "Выведем размеры обучающей и тестовой выборок:"
   ]
  },
  {
   "cell_type": "code",
   "execution_count": null,
   "id": "6fad77de",
   "metadata": {},
   "outputs": [],
   "source": [
    "print(features_train.shape, target_train.shape)\n",
    "print(features_test.shape, target_test.shape)"
   ]
  },
  {
   "cell_type": "markdown",
   "id": "478f5a0e",
   "metadata": {},
   "source": [
    "Теперь определим RMSE с помощью использования MSE со значением False для параметра squared:"
   ]
  },
  {
   "cell_type": "code",
   "execution_count": null,
   "id": "ea02dda2",
   "metadata": {},
   "outputs": [],
   "source": [
    "rmse = make_scorer(mean_squared_error, squared=False, greater_is_better=False)"
   ]
  },
  {
   "cell_type": "markdown",
   "id": "3f936595",
   "metadata": {},
   "source": [
    "Начнем с модели библиотеки **LightGBM**:"
   ]
  },
  {
   "cell_type": "markdown",
   "id": "4cf86cae",
   "metadata": {},
   "source": [
    "Теперь создадим модель:"
   ]
  },
  {
   "cell_type": "code",
   "execution_count": null,
   "id": "6e4c0d3c",
   "metadata": {},
   "outputs": [],
   "source": [
    "model = LGBMRegressor(\n",
    "    boosting_type='gbdt',\n",
    "    num_leaves=31,\n",
    "    max_depth=-1,\n",
    "    learning_rate=0.1,\n",
    "    n_estimators=100,\n",
    "    objective='regression',\n",
    "    min_split_gain=0.0,\n",
    "    min_child_samples=20,\n",
    "    subsample=1.0,\n",
    "    subsample_freq=0,\n",
    "    colsample_bytree=1.0,\n",
    "    reg_alpha=0.0,\n",
    "    reg_lambda=0.0,\n",
    "    random_state=None\n",
    ")"
   ]
  },
  {
   "cell_type": "markdown",
   "id": "b8e89459",
   "metadata": {},
   "source": [
    "Проведем кросс-валидацию нашей модели:"
   ]
  },
  {
   "cell_type": "code",
   "execution_count": null,
   "id": "14257026",
   "metadata": {},
   "outputs": [],
   "source": [
    "scores = cross_validate(model, features_train, target_train, cv=5, scoring=rmse)"
   ]
  },
  {
   "cell_type": "markdown",
   "id": "f82c9539",
   "metadata": {},
   "source": [
    "Теперь получим значения метрики RMSE и количество времени, потраченного на обучение и предсказание:"
   ]
  },
  {
   "cell_type": "code",
   "execution_count": null,
   "id": "efb1a759",
   "metadata": {},
   "outputs": [],
   "source": [
    "print('Значения RMSE на каждом шаге кросс-валидации и их среднее:')\n",
    "print(abs(scores['test_score']))\n",
    "print(abs(scores['test_score']).mean())\n",
    "print('Время обучения на каждом шаге кросс-валидации и его среднее значение:')\n",
    "print(abs(scores['fit_time']))\n",
    "print(abs(scores['fit_time']).mean())\n",
    "print('Время предсказания на каждом шаге кросс-валидации и его среднее значение:')\n",
    "print(abs(scores['score_time']))\n",
    "print(abs(scores['score_time']).mean())"
   ]
  },
  {
   "cell_type": "markdown",
   "id": "12f1d92b",
   "metadata": {},
   "source": [
    "Как видим, наша модель уже достаточно хорошо справляется со своей работой. Значение RMSE в каждом случае меньше 2500, средняя скорость обучения в данном эксперименте составила 5.7 секунд, а предсказания - 0.7 (значения могут незначительно меняться в каждом проведенном эксперименте)"
   ]
  },
  {
   "cell_type": "markdown",
   "id": "82e74d5e",
   "metadata": {},
   "source": [
    "Теперь проведем гридсерч по нескольким параметрам:"
   ]
  },
  {
   "cell_type": "code",
   "execution_count": null,
   "id": "8fd902d2",
   "metadata": {},
   "outputs": [],
   "source": [
    "parameters = {\n",
    "              'max_depth': [15, 25, 35],\n",
    "              'learning_rate': [0.01, 0.05, 0.1],\n",
    "              'n_estimators': [50, 75, 100],\n",
    "              'reg_alpha': [0, 1],\n",
    "              'reg_lambda': [0, 1]\n",
    "}\n",
    "\n",
    "grid = GridSearchCV(estimator=model, param_grid=parameters, scoring=rmse, cv=5, verbose=3)"
   ]
  },
  {
   "cell_type": "code",
   "execution_count": null,
   "id": "32d1dc18",
   "metadata": {},
   "outputs": [],
   "source": [
    "grid.fit(features_train, target_train)"
   ]
  },
  {
   "cell_type": "markdown",
   "id": "555a3f43",
   "metadata": {},
   "source": [
    "Выведем лучшие параметры для модели и ее усредненный лучший результат:"
   ]
  },
  {
   "cell_type": "code",
   "execution_count": null,
   "id": "4bc4a213",
   "metadata": {},
   "outputs": [],
   "source": [
    "print(grid.best_params_)\n",
    "print(abs(grid.best_score_))"
   ]
  },
  {
   "cell_type": "markdown",
   "id": "2596609d",
   "metadata": {},
   "source": [
    "Как видим, лучший результат дают следующие параметры: learning_rate: 0.1, max_depth: 25, n_estimators: 100, reg_alpha: 0, reg_lambda: 0. Теперь посмотрим на средние характеристики времени для лучшей модели:"
   ]
  },
  {
   "cell_type": "code",
   "execution_count": null,
   "id": "a84ec3d9",
   "metadata": {
    "scrolled": true
   },
   "outputs": [],
   "source": [
    "pd.DataFrame(grid.cv_results_).loc[[grid.best_index_]]"
   ]
  },
  {
   "cell_type": "markdown",
   "id": "fda8ab9c",
   "metadata": {},
   "source": [
    "Итак, лучший результат метрики RMSE для данной модели - 2251.4, время обучения - 4.3, время предказания - 0.6."
   ]
  },
  {
   "cell_type": "markdown",
   "id": "edfff351",
   "metadata": {},
   "source": [
    "Теперь воспользуемся средствами библиотеки **CatBoost**:"
   ]
  },
  {
   "cell_type": "code",
   "execution_count": null,
   "id": "cb458c9f",
   "metadata": {},
   "outputs": [],
   "source": [
    "model = CatBoostRegressor()"
   ]
  },
  {
   "cell_type": "code",
   "execution_count": null,
   "id": "ffe69cb0",
   "metadata": {},
   "outputs": [],
   "source": [
    "cat_features = ['VehicleType', 'Gearbox', 'Model', 'FuelType', 'Brand']\n",
    "\n",
    "pool = Pool(data=features_train, \n",
    "            label=target_train, \n",
    "            cat_features=cat_features)\n",
    "\n",
    "params = {'loss_function': 'RMSE',\n",
    "          'iterations': 500,\n",
    "          'depth': 3,\n",
    "          }\n",
    "\n",
    "scores = cv(pool=pool,\n",
    "            params=params,\n",
    "            fold_count=5,\n",
    "            logging_level='Verbose',\n",
    "           )"
   ]
  },
  {
   "cell_type": "code",
   "execution_count": null,
   "id": "919af395",
   "metadata": {},
   "outputs": [],
   "source": [
    "scores['test-RMSE-mean'].min()"
   ]
  },
  {
   "cell_type": "markdown",
   "id": "fb91e2a9",
   "metadata": {},
   "source": [
    "Как видим, величина RMSE слишком велика (лучшее среднее значение - 2607.9). Воспользуемся гридсерчем:"
   ]
  },
  {
   "cell_type": "code",
   "execution_count": null,
   "id": "8bb94dcc",
   "metadata": {},
   "outputs": [],
   "source": [
    "param_grid = {'depth': [2, 6, 10],\n",
    "              'l2_leaf_reg': [1, 5, 9]}\n",
    "\n",
    "grid = model.grid_search(param_grid,\n",
    "                         pool)"
   ]
  },
  {
   "cell_type": "code",
   "execution_count": null,
   "id": "9b4cda54",
   "metadata": {},
   "outputs": [],
   "source": [
    "grid['params']"
   ]
  },
  {
   "cell_type": "markdown",
   "id": "8da404a1",
   "metadata": {},
   "source": [
    "Как видим, наилучшее значения для параметра depth - 10, а для l2_leaf_reg - 1."
   ]
  },
  {
   "cell_type": "code",
   "execution_count": null,
   "id": "47a59e2c",
   "metadata": {},
   "outputs": [],
   "source": [
    "pd.DataFrame(grid['cv_results'])"
   ]
  },
  {
   "cell_type": "markdown",
   "id": "a7b0e291",
   "metadata": {},
   "source": [
    "Кроме того, видим, что к тысячной итерации среднее значение RMSE составляет 2150.8, что меньше порога в 2500. При использовании большего числа итераций, сможем достигнуть еще более низкого значения."
   ]
  },
  {
   "cell_type": "markdown",
   "id": "51e96624",
   "metadata": {},
   "source": [
    "Теперь замерим время обучения и предсказания данных (не нашел способа сделать это лучше, так как из кросс-валидации и гридсерча CatBoost'а нельзя \"достать\" параметры времени, как из аналогичных инструментов sklearn'а):"
   ]
  },
  {
   "cell_type": "code",
   "execution_count": null,
   "id": "4d885475",
   "metadata": {},
   "outputs": [],
   "source": [
    "%%time\n",
    "model.fit(X=features_train, y=target_train, cat_features=cat_features)"
   ]
  },
  {
   "cell_type": "code",
   "execution_count": null,
   "id": "c887fa13",
   "metadata": {},
   "outputs": [],
   "source": [
    "%%time\n",
    "model.predict(data=features_train)"
   ]
  },
  {
   "cell_type": "markdown",
   "id": "00b4204d",
   "metadata": {},
   "source": [
    "Как видим, обучение модели занимает 9 минут 5 секунд, а предсказание - 2 секунды."
   ]
  },
  {
   "cell_type": "markdown",
   "id": "9553eba8",
   "metadata": {},
   "source": [
    "Также обучим **линейную регрессию**:"
   ]
  },
  {
   "cell_type": "markdown",
   "id": "9a21c8df",
   "metadata": {},
   "source": [
    "Сперва закодируем наши данные с помощью кодировки HashingEncoder:"
   ]
  },
  {
   "cell_type": "code",
   "execution_count": null,
   "id": "0852050f",
   "metadata": {},
   "outputs": [],
   "source": [
    "encoder = ce.HashingEncoder(cols=['VehicleType', 'Gearbox', 'Model', 'FuelType', 'Brand'], n_components=32)\n",
    "encoder.fit(features_train, target_train)\n",
    "features_train_hash = encoder.transform(features_train)"
   ]
  },
  {
   "cell_type": "markdown",
   "id": "b4c60cb2",
   "metadata": {},
   "source": [
    "Теперь создадим модель и проведем кросс-валидацию:"
   ]
  },
  {
   "cell_type": "code",
   "execution_count": null,
   "id": "685dbd6d",
   "metadata": {},
   "outputs": [],
   "source": [
    "model = LinearRegression()"
   ]
  },
  {
   "cell_type": "code",
   "execution_count": null,
   "id": "17c82328",
   "metadata": {},
   "outputs": [],
   "source": [
    "scores = cross_validate(model, features_train_hash, target_train, cv=5, scoring=rmse)"
   ]
  },
  {
   "cell_type": "markdown",
   "id": "205842b1",
   "metadata": {},
   "source": [
    "Теперь получим необходимые метрики:"
   ]
  },
  {
   "cell_type": "code",
   "execution_count": null,
   "id": "3faae16b",
   "metadata": {},
   "outputs": [],
   "source": [
    "print('Значения RMSE на каждом шаге кросс-валидации и их среднее:')\n",
    "print(abs(scores['test_score']))\n",
    "print(abs(scores['test_score']).mean())\n",
    "print('Время обучения на каждом шаге кросс-валидации и его среднее значение:')\n",
    "print(abs(scores['fit_time']))\n",
    "print(abs(scores['fit_time']).mean())\n",
    "print('Время предсказания на каждом шаге кросс-валидации и его среднее значение:')\n",
    "print(abs(scores['score_time']))\n",
    "print(abs(scores['score_time']).mean())"
   ]
  },
  {
   "cell_type": "markdown",
   "id": "c3878caa",
   "metadata": {},
   "source": [
    "Видим, что значение RMSE слишком велико - 3097. Время обучения составляет 0.91, а время предсказания - 0.12."
   ]
  },
  {
   "cell_type": "markdown",
   "id": "f5531a4a",
   "metadata": {},
   "source": [
    "Наконец, проведем обучение модели **случайного леса**:"
   ]
  },
  {
   "cell_type": "code",
   "execution_count": null,
   "id": "70224015",
   "metadata": {},
   "outputs": [],
   "source": [
    "model = RandomForestRegressor()"
   ]
  },
  {
   "cell_type": "code",
   "execution_count": null,
   "id": "5364fede",
   "metadata": {},
   "outputs": [],
   "source": [
    "parameters = {'random_state' : [12345],\n",
    "              'n_estimators': range(60, 141, 40),\n",
    "              'max_depth': [1, 5, 10]}\n",
    "\n",
    "grid = GridSearchCV(estimator=model, param_grid=parameters, scoring=rmse, cv=3, verbose=3)"
   ]
  },
  {
   "cell_type": "code",
   "execution_count": null,
   "id": "5e90448b",
   "metadata": {
    "scrolled": true
   },
   "outputs": [],
   "source": [
    "grid.fit(features_train_hash, target_train)"
   ]
  },
  {
   "cell_type": "markdown",
   "id": "eb89fe8f",
   "metadata": {},
   "source": [
    "Получим необходимые метрики:"
   ]
  },
  {
   "cell_type": "code",
   "execution_count": null,
   "id": "3838a5c6",
   "metadata": {},
   "outputs": [],
   "source": [
    "print(grid.best_params_)\n",
    "print(abs(grid.best_score_))"
   ]
  },
  {
   "cell_type": "code",
   "execution_count": null,
   "id": "7d45954f",
   "metadata": {},
   "outputs": [],
   "source": [
    "pd.DataFrame(grid.cv_results_).loc[[grid.best_index_]]"
   ]
  },
  {
   "cell_type": "markdown",
   "id": "36825fa0",
   "metadata": {},
   "source": [
    "Наилучшее значение RMSE для случайного леса - 2544.5, среднее время обучения равняется 105.5,а время предсказания - 2.5."
   ]
  },
  {
   "cell_type": "markdown",
   "id": "a6ede5ab",
   "metadata": {},
   "source": [
    "Беря во внимание критерии, приоритетные для заказчика, делаем вывод, что лучшая для данной задачи модель - LGBMRegressor. Проведем ее тестирование, использовав подобранные параметры:"
   ]
  },
  {
   "cell_type": "code",
   "execution_count": null,
   "id": "65ac988b",
   "metadata": {},
   "outputs": [],
   "source": [
    "model = LGBMRegressor(\n",
    "    boosting_type='gbdt',\n",
    "    num_leaves=31,\n",
    "    max_depth=25,\n",
    "    learning_rate=0.1,\n",
    "    n_estimators=100,\n",
    "    objective='regression',\n",
    "    min_split_gain=0.0,\n",
    "    min_child_samples=20,\n",
    "    subsample=1.0,\n",
    "    subsample_freq=0,\n",
    "    colsample_bytree=1.0,\n",
    "    reg_alpha=0.0,\n",
    "    reg_lambda=0.0,\n",
    "    random_state=None\n",
    ")"
   ]
  },
  {
   "cell_type": "code",
   "execution_count": null,
   "id": "107351c9",
   "metadata": {},
   "outputs": [],
   "source": [
    "%%time\n",
    "model.fit(features_train, target_train)"
   ]
  },
  {
   "cell_type": "code",
   "execution_count": null,
   "id": "389ec68f",
   "metadata": {},
   "outputs": [],
   "source": [
    "%%time\n",
    "target_predicted = model.predict(features_test)"
   ]
  },
  {
   "cell_type": "code",
   "execution_count": null,
   "id": "0848b1fe",
   "metadata": {},
   "outputs": [],
   "source": [
    "rmse = mean_squared_error(target_test, target_predicted, squared=False)\n",
    "rmse"
   ]
  },
  {
   "cell_type": "markdown",
   "id": "884d9fcd",
   "metadata": {},
   "source": [
    "Итоговое тестирование показало значение RMSE в 2224.3, время обучения составило 2.5 секунд, а время предсказания - 390 миллисекунд. Результаты можем признать удовлетворительными."
   ]
  }
 ],
 "metadata": {
  "kernelspec": {
   "display_name": "Python 3 (ipykernel)",
   "language": "python",
   "name": "python3"
  },
  "language_info": {
   "codemirror_mode": {
    "name": "ipython",
    "version": 3
   },
   "file_extension": ".py",
   "mimetype": "text/x-python",
   "name": "python",
   "nbconvert_exporter": "python",
   "pygments_lexer": "ipython3",
   "version": "3.9.13"
  },
  "toc": {
   "base_numbering": 1,
   "nav_menu": {},
   "number_sections": true,
   "sideBar": true,
   "skip_h1_title": true,
   "title_cell": "Table of Contents",
   "title_sidebar": "Contents",
   "toc_cell": false,
   "toc_position": {},
   "toc_section_display": true,
   "toc_window_display": false
  }
 },
 "nbformat": 4,
 "nbformat_minor": 5
}
